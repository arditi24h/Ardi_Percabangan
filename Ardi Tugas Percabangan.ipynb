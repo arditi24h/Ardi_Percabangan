{
 "cells": [
  {
   "cell_type": "markdown",
   "id": "5854a90d-e435-44ae-9e31-3bc520e011b1",
   "metadata": {
    "id": "5854a90d-e435-44ae-9e31-3bc520e011b1"
   },
   "source": [
    "Buatlah program yang meminta pengguna memasukkan usia seseorang, lalu tentukan apakah dia <br>\n",
    "anak-anak (0-12 tahun), remaja (13-17 tahun), dewasa (18-59 tahun), atau lansia (60 tahun ke atas)."
   ]
  },
  {
   "cell_type": "code",
   "execution_count": 3,
   "id": "75a2fdcd-1ef1-45e4-9d79-c6a7cb708a18",
   "metadata": {
    "id": "75a2fdcd-1ef1-45e4-9d79-c6a7cb708a18"
   },
   "outputs": [
    {
     "name": "stdin",
     "output_type": "stream",
     "text": [
      "isikan umur pengguna: 18\n"
     ]
    },
    {
     "name": "stdout",
     "output_type": "stream",
     "text": [
      "kategori:dewasa\n"
     ]
    }
   ],
   "source": [
    "# add code here \n",
    "umur = int(input(\"isikan umur pengguna:\"))\n",
    "\n",
    "if umur > 59:\n",
    "    kategori = \"lansia\"\n",
    "elif umur > 17:\n",
    "    kategori = \"dewasa\"\n",
    "elif umur > 12:\n",
    "    kategori = \"remaja\"\n",
    "elif umur >= 0:\n",
    "    kategori = \"anak-anak\"\n",
    "else :\n",
    "    kategori = \"tidak valid\"\n",
    "print(f\"kategori:{kategori}\")"
   ]
  },
  {
   "cell_type": "markdown",
   "id": "68c95835-e4ad-4bd0-89ca-168200893cf7",
   "metadata": {
    "id": "68c95835-e4ad-4bd0-89ca-168200893cf7"
   },
   "source": [
    "Sebuah taman hiburan memiliki aturan harga tiket berdasarkan usia:\n",
    "<ol>\n",
    "<li>Anak-anak (0-12 tahun): Rp 10.000</li>\n",
    "<li>Remaja (13-17 tahun): Rp 15.000</li>\n",
    "<li>Dewasa (18-59 tahun): Rp 25.000</li>\n",
    "<li>Lansia (60 tahun ke atas): Gratis</li>\n",
    "</ol>\n",
    "Buat program untuk menentukan harga tiket berdasarkan usia yang dimasukkan pengguna dan total harga yang harus dibayar, jika terdapat 3 input seperti berikut ini"
   ]
  },
  {
   "cell_type": "code",
   "execution_count": 2,
   "id": "66ee699f-8355-48e0-939a-dcc73ba4425b",
   "metadata": {
    "id": "66ee699f-8355-48e0-939a-dcc73ba4425b"
   },
   "outputs": [
    {
     "name": "stdin",
     "output_type": "stream",
     "text": [
      "Isikan Umur Tiket 1: 12\n",
      "Isikan Umur Tiket 2:  17\n",
      "Isikan Umur Tiket 3:  58\n"
     ]
    },
    {
     "name": "stdout",
     "output_type": "stream",
     "text": [
      "Tiket 1: Tiket Anak - anak total harga 10000\n",
      "Tiket 2: Tiket Remaja total harga 15000\n",
      "Tiket 3: Tiket Dewasa total harga 25000\n",
      "Total harga yang harus dibayar : 50000\n"
     ]
    }
   ],
   "source": [
    "# add code here\n",
    "tiket1 = int(input(\"Isikan Umur Tiket 1:\"))\n",
    "tiket2 = int(input(\"Isikan Umur Tiket 2: \"))\n",
    "tiket3 = int(input(\"Isikan Umur Tiket 3: \"))\n",
    "\n",
    "total = 0\n",
    "\n",
    "if tiket1 > 60 :\n",
    "    keterangan1 = \"Tiket lansia\"\n",
    "    harga1 = 0\n",
    "elif tiket1 > 17 :\n",
    "    keterangan1 = \"Tiket Dewasa\"\n",
    "    harga1 = 25000\n",
    "elif tiket1 > 12 :\n",
    "    keterangan1 = \"Tiket Remaja\"\n",
    "    harga1 = 15000\n",
    "elif tiket1 >= 0 :\n",
    "    keterangan1 = \"Tiket Anak - anak\"\n",
    "    harga1 = 10000\n",
    "total += harga1\n",
    "\n",
    "if tiket2 > 60 :\n",
    "    keterangan2 = \"Tiket lansia\"\n",
    "    harga2 = 0\n",
    "elif tiket2 > 17 :\n",
    "    keterangan2 = \"Tiket Dewasa\"\n",
    "    harga2 = 25000\n",
    "elif tiket2 > 12 :\n",
    "    keterangan2 = \"Tiket Remaja\"\n",
    "    harga2 = 15000\n",
    "elif tiket2 >= 0 :\n",
    "    keterangan2 = \"Tiket Anak - anak\"\n",
    "    harga2 = 10000\n",
    "total += harga2\n",
    "\n",
    "if tiket3 > 60 :\n",
    "    keterangan3 = \"Tiket lansia\"\n",
    "    harga3 = 0\n",
    "elif tiket3 > 17 :\n",
    "    keterangan3 = \"Tiket Dewasa\"\n",
    "    harga3 = 25000\n",
    "elif tiket3 > 12 :\n",
    "    keterangan3 = \"Tiket Remaja\"\n",
    "    harga3 = 15000\n",
    "elif tiket3 >= 0 :\n",
    "    keterangan3 = \"Tiket Anak - anak\"\n",
    "    harga3 = 10000\n",
    "total += harga3\n",
    "\n",
    "\n",
    "print(f\"Tiket 1: {keterangan1} total harga {harga1}\")\n",
    "print(f\"Tiket 2: {keterangan2} total harga {harga2}\")\n",
    "print(f\"Tiket 3: {keterangan3} total harga {harga3}\")\n",
    "print(f\"Total harga yang harus dibayar : {total}\")"
   ]
  },
  {
   "cell_type": "markdown",
   "id": "82eac646-d930-42f5-a253-03f84c32f943",
   "metadata": {
    "id": "82eac646-d930-42f5-a253-03f84c32f943"
   },
   "source": [
    "Sebuah restoran memiliki diskon khusus:\n",
    "Anak-anak (0-12 tahun) diskon 50%\n",
    "Lansia (60 tahun ke atas) diskon 30%\n",
    "Selain itu, tidak ada diskon\n",
    "Buat program untuk menghitung harga yang harus dibayar setelah diskon diberikan."
   ]
  },
  {
   "cell_type": "code",
   "execution_count": 5,
   "id": "feb31fca-fce6-4e5f-a25f-8752e7a0033b",
   "metadata": {
    "id": "feb31fca-fce6-4e5f-a25f-8752e7a0033b"
   },
   "outputs": [
    {
     "name": "stdin",
     "output_type": "stream",
     "text": [
      "Masukkan harga makanan:  50000\n",
      "Masukkan usia pelanggan:  12\n"
     ]
    },
    {
     "name": "stdout",
     "output_type": "stream",
     "text": [
      "Harga yang harus dibayar setelah diskon: Rp 25000.00\n"
     ]
    }
   ],
   "source": [
    "# add code here \n",
    "def hitung_harga_setelah_diskon(harga_awal, usia):\n",
    "    if 0 <= usia <= 12:\n",
    "        diskon = 0.50  \n",
    "    elif usia >= 60:\n",
    "        diskon = 0.30  \n",
    "    else:\n",
    "        diskon = 0.00  \n",
    "    \n",
    "    harga_setelah_diskon = harga_awal * (1 - diskon)\n",
    "    return harga_setelah_diskon\n",
    "    \n",
    "harga_awal = float(input(\"Masukkan harga makanan: \"))\n",
    "usia = int(input(\"Masukkan usia pelanggan: \"))\n",
    "\n",
    "\n",
    "harga_final = hitung_harga_setelah_diskon(harga_awal, usia)\n",
    "\n",
    "print(f\"Harga yang harus dibayar setelah diskon: Rp {harga_final:.2f}\")"
   ]
  },
  {
   "cell_type": "markdown",
   "id": "aee8bab3-9bf1-4732-97e1-7abb32ce7184",
   "metadata": {
    "id": "aee8bab3-9bf1-4732-97e1-7abb32ce7184"
   },
   "source": [
    "Program beasiswa:\n",
    "<ol>\n",
    "<li>Jika nilai rapor ≥ 90 dan penghasilan orang tua < Rp 5.000.000 → Beasiswa Penuh</li>\n",
    "<li>Jika nilai rapor ≥ 85 dan penghasilan orang tua < Rp 8.000.000 → Beasiswa 50%</li>\n",
    "<li>Jika tidak memenuhi syarat di atas → Tidak mendapatkan beasiswa</li>\n",
    "</ol>"
   ]
  },
  {
   "cell_type": "code",
   "execution_count": 6,
   "id": "55a9ec4f-531b-4326-bca3-e0d19b4be47d",
   "metadata": {
    "id": "55a9ec4f-531b-4326-bca3-e0d19b4be47d"
   },
   "outputs": [
    {
     "name": "stdin",
     "output_type": "stream",
     "text": [
      "Masukkan nilai rapor:  95\n",
      "Masukkan penghasilan orang tua:  3000000\n"
     ]
    },
    {
     "name": "stdout",
     "output_type": "stream",
     "text": [
      "Status Beasiswa: Beasiswa Penuh\n"
     ]
    }
   ],
   "source": [
    "# add code here \n",
    "def cek_beasiswa(nilai_rapor, penghasilan):\n",
    "    if nilai_rapor >= 90 and penghasilan < 5000000:\n",
    "        return \"Beasiswa Penuh\"\n",
    "    elif nilai_rapor >= 85 and penghasilan < 8000000:\n",
    "        return \"Beasiswa 50%\"\n",
    "    else:\n",
    "        return \"Tidak mendapatkan beasiswa\"\n",
    "\n",
    "nilai_rapor = float(input(\"Masukkan nilai rapor: \"))\n",
    "penghasilan = float(input(\"Masukkan penghasilan orang tua: \"))\n",
    "\n",
    "hasil_beasiswa = cek_beasiswa(nilai_rapor, penghasilan)\n",
    "\n",
    "print(f\"Status Beasiswa: {hasil_beasiswa}\")"
   ]
  },
  {
   "cell_type": "markdown",
   "id": "57ea9062-e1af-4650-8eab-a47a01a9d04f",
   "metadata": {
    "id": "57ea9062-e1af-4650-8eab-a47a01a9d04f"
   },
   "source": [
    "Suatu aplikasi streaming memiliki batasan usia:\n",
    "<ol>\n",
    "<li>Film Semua Umur: Bisa ditonton oleh siapa saja</li>\n",
    "<li>Film Remaja: Hanya untuk usia ≥ 13 tahun</li>\n",
    "<li>Film Dewasa: Hanya untuk usia ≥ 18 tahun</li>\n",
    "</ol>\n",
    "Buat program yang meminta input usia dan kategori film, lalu tentukan apakah seseorang boleh menonton film tersebut atau tidak."
   ]
  },
  {
   "cell_type": "code",
   "execution_count": 9,
   "id": "2c00f464-3390-4c94-9ec2-4b63c55b871b",
   "metadata": {
    "id": "2c00f464-3390-4c94-9ec2-4b63c55b871b"
   },
   "outputs": [
    {
     "name": "stdin",
     "output_type": "stream",
     "text": [
      "Masukkan usia Anda:  19\n",
      "Masukkan kategori film (Semua Umur/Remaja/Dewasa):  Dewasa\n"
     ]
    },
    {
     "name": "stdout",
     "output_type": "stream",
     "text": [
      "Anda boleh menonton film ini.\n"
     ]
    }
   ],
   "source": [
    "# add code here \n",
    "def cek_kelayakan_menonton(usia, kategori):\n",
    "    if kategori.lower() == \"semua umur\":\n",
    "        return \"Anda boleh menonton film ini.\"\n",
    "    elif kategori.lower() == \"remaja\" and usia >= 13:\n",
    "        return \"Anda boleh menonton film ini.\"\n",
    "    elif kategori.lower() == \"dewasa\" and usia >= 18:\n",
    "        return \"Anda boleh menonton film ini.\"\n",
    "    else:\n",
    "        return \"Maaf, Anda tidak boleh menonton film ini.\"\n",
    "\n",
    "usia = int(input(\"Masukkan usia Anda: \"))\n",
    "kategori_film = input(\"Masukkan kategori film (Semua Umur/Remaja/Dewasa): \")\n",
    "\n",
    "hasil = cek_kelayakan_menonton(usia, kategori_film)\n",
    "\n",
    "print(hasil)\n"
   ]
  },
  {
   "cell_type": "markdown",
   "id": "7b87c04c-85f0-4dc1-a14a-f67d8b2c4e6a",
   "metadata": {
    "id": "7b87c04c-85f0-4dc1-a14a-f67d8b2c4e6a"
   },
   "source": [
    "Sebuah toko memberikan diskon berdasarkan jumlah pembelian:\n",
    "<ol>\n",
    "<li>Jika total belanja ≥ Rp 500.000 → Diskon 20%</li>\n",
    "<li>Jika total belanja ≥ Rp 250.000 → Diskon 10%</li>\n",
    "<li>Jika total belanja < Rp 250.000 → Tidak ada diskon</li>\n",
    "</ol>\n",
    "Hitung harga akhir setelah diskon."
   ]
  },
  {
   "cell_type": "code",
   "execution_count": 10,
   "id": "966923a0-c87b-4559-8fc1-3090d448ad4a",
   "metadata": {
    "id": "966923a0-c87b-4559-8fc1-3090d448ad4a"
   },
   "outputs": [
    {
     "name": "stdin",
     "output_type": "stream",
     "text": [
      "Masukkan total belanja:  510000\n"
     ]
    },
    {
     "name": "stdout",
     "output_type": "stream",
     "text": [
      "Harga yang harus dibayar setelah diskon: Rp 408000.00\n"
     ]
    }
   ],
   "source": [
    "# add code here\n",
    "def hitung_harga_setelah_diskon(total_belanja):\n",
    "    if total_belanja >= 500000:\n",
    "        diskon = 0.20 \n",
    "    elif total_belanja >= 250000:\n",
    "        diskon = 0.10 \n",
    "    else:\n",
    "        diskon = 0.00 \n",
    "    \n",
    "    harga_setelah_diskon = total_belanja * (1 - diskon)\n",
    "    return harga_setelah_diskon\n",
    "\n",
    "total_belanja = float(input(\"Masukkan total belanja: \"))\n",
    "\n",
    "harga_final = hitung_harga_setelah_diskon(total_belanja)\n",
    "\n",
    "print(f\"Harga yang harus dibayar setelah diskon: Rp {harga_final:.2f}\")\n"
   ]
  },
  {
   "cell_type": "markdown",
   "id": "88e22629-48cc-4917-86e7-2bf4df863182",
   "metadata": {
    "id": "88e22629-48cc-4917-86e7-2bf4df863182"
   },
   "source": [
    "Program parkir:\n",
    "<ol>\n",
    "<li>Mobil: Rp 5.000 per jam</li>\n",
    "<li>Motor: Rp 2.000 per jam</li>\n",
    "<li>Jika parkir lebih dari 5 jam, ada biaya tambahan Rp 10.000</li>\n",
    "</ol>\n",
    "Hitung total biaya parkir berdasarkan jenis kendaraan dan durasi parkir."
   ]
  },
  {
   "cell_type": "code",
   "execution_count": 11,
   "id": "b8f7b918-70a1-4a88-945f-406c4aafbec7",
   "metadata": {
    "id": "b8f7b918-70a1-4a88-945f-406c4aafbec7"
   },
   "outputs": [
    {
     "name": "stdin",
     "output_type": "stream",
     "text": [
      "Masukkan jenis kendaraan (Mobil/Motor):  Mobil\n",
      "Masukkan durasi parkir (jam):  3\n"
     ]
    },
    {
     "name": "stdout",
     "output_type": "stream",
     "text": [
      "Total biaya parkir: Rp 15000\n"
     ]
    }
   ],
   "source": [
    "# add code here\n",
    "def hitung_biaya_parkir(jenis_kendaraan, durasi):\n",
    "    if jenis_kendaraan.lower() == \"mobil\":\n",
    "        tarif_per_jam = 5000\n",
    "    elif jenis_kendaraan.lower() == \"motor\":\n",
    "        tarif_per_jam = 2000\n",
    "    else:\n",
    "        return \"Jenis kendaraan tidak valid\"\n",
    "    \n",
    "    biaya_parkir = tarif_per_jam * durasi\n",
    "    \n",
    "    if durasi > 5:\n",
    "        biaya_parkir += 10000  \n",
    "    \n",
    "    return biaya_parkir\n",
    "\n",
    "jenis_kendaraan = input(\"Masukkan jenis kendaraan (Mobil/Motor): \")\n",
    "durasi = int(input(\"Masukkan durasi parkir (jam): \"))\n",
    "\n",
    "biaya_final = hitung_biaya_parkir(jenis_kendaraan, durasi)\n",
    "\n",
    "print(f\"Total biaya parkir: Rp {biaya_final}\")"
   ]
  },
  {
   "cell_type": "markdown",
   "id": "2db1d34c-3f80-4f8c-aaf2-910c38c05414",
   "metadata": {
    "id": "2db1d34c-3f80-4f8c-aaf2-910c38c05414"
   },
   "source": [
    "Aplikasi transportasi online memiliki tarif sebagai berikut:\n",
    "<ol>\n",
    "<li>Jika jarak ≤ 5 km → Rp 5.000/km</li>\n",
    "<li>Jika jarak 6-10 km → Rp 4.000/km</li>\n",
    "<li>Jika jarak > 10 km → Rp 3.000/km</li>\n",
    "</ol>\n",
    "Hitung tarif perjalanan berdasarkan jarak yang dimasukkan pengguna.\n"
   ]
  },
  {
   "cell_type": "code",
   "execution_count": 12,
   "id": "5a5b719e-76f6-4f45-a8e4-07853113ce9e",
   "metadata": {
    "id": "5a5b719e-76f6-4f45-a8e4-07853113ce9e"
   },
   "outputs": [
    {
     "name": "stdin",
     "output_type": "stream",
     "text": [
      "Masukkan jarak perjalanan (km):  12\n"
     ]
    },
    {
     "name": "stdout",
     "output_type": "stream",
     "text": [
      "Total tarif perjalanan: Rp 36000.0\n"
     ]
    }
   ],
   "source": [
    "# add code here\n",
    "def hitung_tarif_perjalanan(jarak):\n",
    "    if jarak <= 5:\n",
    "        tarif_per_km = 5000\n",
    "    elif 6 <= jarak <= 10:\n",
    "        tarif_per_km = 4000\n",
    "    else:\n",
    "        tarif_per_km = 3000\n",
    "    \n",
    "    total_tarif = jarak * tarif_per_km\n",
    "    return total_tarif\n",
    "\n",
    "jarak = float(input(\"Masukkan jarak perjalanan (km): \"))\n",
    "\n",
    "tarif_final = hitung_tarif_perjalanan(jarak)\n",
    "\n",
    "print(f\"Total tarif perjalanan: Rp {tarif_final}\")"
   ]
  },
  {
   "cell_type": "markdown",
   "id": "d1cf7b61-e309-40ec-b1fd-4bc56550a10d",
   "metadata": {
    "id": "d1cf7b61-e309-40ec-b1fd-4bc56550a10d"
   },
   "source": [
    "Buatlah sebuah sistem penerimaan calon programmer yang akan menerima dua nilai ( nilai coding dan nilai interview). Untuk penilaian test coding skala penilaian yang diberikan dimulai dari 0 hingga 100 dengan sistem penilaian:\n",
    "<ol>\n",
    "<li>ketika seseorang mendapatkan nilai lebih dari 80 maka peserta tersebut akan mendapatkan hasil tes LOLOS</li>\n",
    "<li>ketika sesorang mendapatkan nilai diantara 60 hingga 80 maka peserta tersebut mendapatkan hasil tes DIPERTIMBANGKAN</li>\n",
    "<li>ketika seseorang mendapatkan nilai dibawah 60 maka peserta tersebut mendapatkan hasil tes GAGAL.</li>\n",
    "</ol>\n",
    "\n",
    "Sedangkan untuk penilaian interview adalah\n",
    "<ol>\n",
    "<li>ketika nilai yang diberikan kepada seseorang tersebut adalah \"A\" atau \"B\" maka peserta tersebut dianggap LOLOS interview</li>\n",
    "\n",
    "<li>selain kedua nilai tersebut maka peserta dianggap GAGAL tes interview.</li>\n",
    "</ol>\n",
    "\n",
    "Ketika calon programmer mendapatkan nilai coding LOLOS atau DIPERTIMBANGKAN dan juga LOLOS test interview maka tampilkanlah pesan \"Selamat Kamu Berhasil Menjadi Calon Programmer\". Jika tidak maka tampilkanlah pesan \"Maaf Kamu Belum Berhasil Menjadi Calon Programmer\""
   ]
  },
  {
   "cell_type": "code",
   "execution_count": 13,
   "id": "7aeb0f89-e957-4c0d-a29c-139fc269e1c0",
   "metadata": {
    "id": "7aeb0f89-e957-4c0d-a29c-139fc269e1c0"
   },
   "outputs": [
    {
     "name": "stdin",
     "output_type": "stream",
     "text": [
      "Masukkan nilai coding (0-100):  75\n",
      "Masukkan nilai interview (A/B/C/D/E):  B\n"
     ]
    },
    {
     "name": "stdout",
     "output_type": "stream",
     "text": [
      "Selamat Kamu Berhasil Menjadi Calon Programmer\n"
     ]
    }
   ],
   "source": [
    "# add code here\n",
    "def hasil_tes_coding(nilai_coding):\n",
    "    if nilai_coding > 80:\n",
    "        return \"LOLOS\"\n",
    "    elif 60 <= nilai_coding <= 80:\n",
    "        return \"DIPERTIMBANGKAN\"\n",
    "    else:\n",
    "        return \"GAGAL\"\n",
    "\n",
    "def hasil_tes_interview(nilai_interview):\n",
    "    if nilai_interview.upper() in [\"A\", \"B\"]:\n",
    "        return \"LOLOS\"\n",
    "    else:\n",
    "        return \"GAGAL\"\n",
    "\n",
    "def penerimaan_programmer(nilai_coding, nilai_interview):\n",
    "    hasil_coding = hasil_tes_coding(nilai_coding)\n",
    "    hasil_interview = hasil_tes_interview(nilai_interview)\n",
    "    \n",
    "    if (hasil_coding in [\"LOLOS\", \"DIPERTIMBANGKAN\"]) and (hasil_interview == \"LOLOS\"):\n",
    "        return \"Selamat Kamu Berhasil Menjadi Calon Programmer\"\n",
    "    else:\n",
    "        return \"Maaf Kamu Belum Berhasil Menjadi Calon Programmer\"\n",
    "\n",
    "nilai_coding = int(input(\"Masukkan nilai coding (0-100): \"))\n",
    "nilai_interview = input(\"Masukkan nilai interview (A/B/C/D/E): \")\n",
    "\n",
    "hasil_akhir = penerimaan_programmer(nilai_coding, nilai_interview)\n",
    "\n",
    "print(hasil_akhir)"
   ]
  },
  {
   "cell_type": "markdown",
   "id": "364647af-075b-4bc0-8c83-4c816415ff74",
   "metadata": {
    "id": "364647af-075b-4bc0-8c83-4c816415ff74"
   },
   "source": [
    "Sebuah klub sepak bola “PERSEGI FC” mempunyai aturan dalam memberikan nomor punggung bagi para pemainnya. Para pemain diperbolehkan mempunyai posisi lebih dari 1. Berikut adalah beberapa\n",
    "aturannya:\n",
    "<ol>\n",
    "<li>Untuk nomor punggung genap, digunakan untuk posisi “target attacker”</li>\n",
    "<li>Untuk nomor punggung genap antara 50 – 100, digunakan untuk pemain yang “berhak dipilih menjadi capten team”</li>\n",
    "<li>Untuk nomor punggung ganjil, digunakan untuk posisi “defender”</li>\n",
    "<li>Untuk nomor punggung ganjil lebih dari 90, digunakan untuk posisi “Playmaker”</li>\n",
    "<li>Untuk nomor punggung ganjil kelipatan dari 3 dan 5, digunakan untuk posisi “keeper”</li>\n",
    "</ol>\n",
    "Buatlah program untuk melakukan pengecekan sebuah nomor punggung dapat berfungsi sebagai posisi apa saja."
   ]
  },
  {
   "cell_type": "code",
   "execution_count": 14,
   "id": "2d1d5589-126b-44e3-9d9e-1bed865ff65c",
   "metadata": {
    "id": "2d1d5589-126b-44e3-9d9e-1bed865ff65c"
   },
   "outputs": [
    {
     "name": "stdin",
     "output_type": "stream",
     "text": [
      "Masukkan nomor punggung pemain:  99\n"
     ]
    },
    {
     "name": "stdout",
     "output_type": "stream",
     "text": [
      "Nomor punggung 99 dapat digunakan untuk posisi: Defender, Playmaker\n"
     ]
    }
   ],
   "source": [
    "# add code here\n",
    "def cek_posisi(nomor_punggung):\n",
    "    posisi = []\n",
    "    \n",
    "    if nomor_punggung % 2 == 0:\n",
    "        posisi.append(\"Target Attacker\")\n",
    "        if 50 <= nomor_punggung <= 100:\n",
    "            posisi.append(\"Berhak dipilih menjadi Kapten Team\")\n",
    "    else:\n",
    "        posisi.append(\"Defender\")\n",
    "        if nomor_punggung > 90:\n",
    "            posisi.append(\"Playmaker\")\n",
    "        if nomor_punggung % 3 == 0 and nomor_punggung % 5 == 0:\n",
    "            posisi.append(\"Keeper\")\n",
    "    \n",
    "    return posisi\n",
    "\n",
    "nomor_punggung = int(input(\"Masukkan nomor punggung pemain: \"))\n",
    "\n",
    "posisi_pemain = cek_posisi(nomor_punggung)\n",
    "\n",
    "if posisi_pemain:\n",
    "    print(f\"Nomor punggung {nomor_punggung} dapat digunakan untuk posisi: {', '.join(posisi_pemain)}\")\n",
    "else:\n",
    "    print(\"Nomor punggung tidak memiliki posisi yang sesuai aturan.\")"
   ]
  },
  {
   "cell_type": "code",
   "execution_count": null,
   "id": "1f9bd510-70ad-4f12-a6f2-8c31c479b0e8",
   "metadata": {},
   "outputs": [],
   "source": []
  }
 ],
 "metadata": {
  "colab": {
   "provenance": []
  },
  "kernelspec": {
   "display_name": "Python 3 (ipykernel)",
   "language": "python",
   "name": "python3"
  },
  "language_info": {
   "codemirror_mode": {
    "name": "ipython",
    "version": 3
   },
   "file_extension": ".py",
   "mimetype": "text/x-python",
   "name": "python",
   "nbconvert_exporter": "python",
   "pygments_lexer": "ipython3",
   "version": "3.12.7"
  }
 },
 "nbformat": 4,
 "nbformat_minor": 5
}
